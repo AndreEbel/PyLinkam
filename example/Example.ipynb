{
 "cells": [
  {
   "cell_type": "markdown",
   "id": "described-designation",
   "metadata": {},
   "source": [
    "# List COM ports"
   ]
  },
  {
   "cell_type": "code",
   "execution_count": 1,
   "id": "contemporary-circumstances",
   "metadata": {
    "ExecuteTime": {
     "end_time": "2021-05-20T14:54:13.960065Z",
     "start_time": "2021-05-20T14:54:13.927211Z"
    }
   },
   "outputs": [
    {
     "name": "stdout",
     "output_type": "stream",
     "text": [
      "available COM ports:\n",
      "COM15 - Périphérique série USB (COM15)\n",
      "COM13 - USB-SERIAL CH340 (COM13)\n",
      "COM4 - Lien série sur Bluetooth standard (COM4)\n",
      "COM3 - Lien série sur Bluetooth standard (COM3)\n",
      "COM10 - USB-SERIAL CH340 (COM10)\n"
     ]
    }
   ],
   "source": [
    "import serial.tools.list_ports as list_ports\n",
    "print('available COM ports:')\n",
    "a = list_ports.comports()\n",
    "for x in a:\n",
    "    print(x)"
   ]
  },
  {
   "cell_type": "markdown",
   "id": "massive-lesbian",
   "metadata": {},
   "source": [
    "# Basic commands"
   ]
  },
  {
   "cell_type": "code",
   "execution_count": 1,
   "id": "christian-technique",
   "metadata": {
    "ExecuteTime": {
     "end_time": "2021-05-20T15:00:54.917851Z",
     "start_time": "2021-05-20T15:00:54.717874Z"
    }
   },
   "outputs": [],
   "source": [
    "import PyLinkam as PL"
   ]
  },
  {
   "cell_type": "code",
   "execution_count": 16,
   "id": "further-drive",
   "metadata": {
    "ExecuteTime": {
     "end_time": "2021-05-20T15:01:37.010084Z",
     "start_time": "2021-05-20T15:01:36.924581Z"
    }
   },
   "outputs": [],
   "source": [
    "TMS94 = PL.programmer('COM13')"
   ]
  },
  {
   "cell_type": "code",
   "execution_count": 17,
   "id": "aging-conditioning",
   "metadata": {
    "ExecuteTime": {
     "end_time": "2021-05-20T15:01:38.158670Z",
     "start_time": "2021-05-20T15:01:38.114952Z"
    }
   },
   "outputs": [
    {
     "data": {
      "text/plain": [
       "25.0"
      ]
     },
     "execution_count": 17,
     "metadata": {},
     "output_type": "execute_result"
    }
   ],
   "source": [
    "TMS94.temperature"
   ]
  },
  {
   "cell_type": "code",
   "execution_count": 18,
   "id": "young-scheme",
   "metadata": {
    "ExecuteTime": {
     "end_time": "2021-05-20T15:01:39.659806Z",
     "start_time": "2021-05-20T15:01:39.609742Z"
    }
   },
   "outputs": [
    {
     "data": {
      "text/plain": [
       "'no error'"
      ]
     },
     "execution_count": 18,
     "metadata": {},
     "output_type": "execute_result"
    }
   ],
   "source": [
    "TMS94.error"
   ]
  },
  {
   "cell_type": "code",
   "execution_count": 19,
   "id": "marked-tunnel",
   "metadata": {
    "ExecuteTime": {
     "end_time": "2021-05-20T15:01:40.676476Z",
     "start_time": "2021-05-20T15:01:40.626312Z"
    }
   },
   "outputs": [
    {
     "data": {
      "text/plain": [
       "'cooling'"
      ]
     },
     "execution_count": 19,
     "metadata": {},
     "output_type": "execute_result"
    }
   ],
   "source": [
    "TMS94.status"
   ]
  },
  {
   "cell_type": "code",
   "execution_count": 20,
   "id": "circular-rochester",
   "metadata": {
    "ExecuteTime": {
     "end_time": "2021-05-20T15:01:45.709540Z",
     "start_time": "2021-05-20T15:01:45.652865Z"
    }
   },
   "outputs": [],
   "source": [
    "TMS94.set_rate(10)"
   ]
  },
  {
   "cell_type": "code",
   "execution_count": 21,
   "id": "powered-membrane",
   "metadata": {
    "ExecuteTime": {
     "end_time": "2021-05-20T15:01:52.540529Z",
     "start_time": "2021-05-20T15:01:52.527936Z"
    }
   },
   "outputs": [
    {
     "data": {
      "text/plain": [
       "10"
      ]
     },
     "execution_count": 21,
     "metadata": {},
     "output_type": "execute_result"
    }
   ],
   "source": [
    "TMS94.rate"
   ]
  },
  {
   "cell_type": "code",
   "execution_count": 22,
   "id": "studied-executive",
   "metadata": {
    "ExecuteTime": {
     "end_time": "2021-05-20T15:01:53.447721Z",
     "start_time": "2021-05-20T15:01:53.406079Z"
    }
   },
   "outputs": [],
   "source": [
    "TMS94.set_limit(200)"
   ]
  },
  {
   "cell_type": "code",
   "execution_count": 23,
   "id": "apparent-prior",
   "metadata": {
    "ExecuteTime": {
     "end_time": "2021-05-20T15:01:54.702754Z",
     "start_time": "2021-05-20T15:01:54.692277Z"
    }
   },
   "outputs": [
    {
     "data": {
      "text/plain": [
       "200"
      ]
     },
     "execution_count": 23,
     "metadata": {},
     "output_type": "execute_result"
    }
   ],
   "source": [
    "TMS94.limit"
   ]
  },
  {
   "cell_type": "code",
   "execution_count": 24,
   "id": "fitting-light",
   "metadata": {
    "ExecuteTime": {
     "end_time": "2021-05-20T15:01:55.202172Z",
     "start_time": "2021-05-20T15:01:55.167521Z"
    }
   },
   "outputs": [],
   "source": [
    "TMS94.start()"
   ]
  },
  {
   "cell_type": "code",
   "execution_count": 25,
   "id": "egyptian-benjamin",
   "metadata": {
    "ExecuteTime": {
     "end_time": "2021-05-20T15:01:57.492241Z",
     "start_time": "2021-05-20T15:01:57.451229Z"
    }
   },
   "outputs": [
    {
     "data": {
      "text/plain": [
       "'heating'"
      ]
     },
     "execution_count": 25,
     "metadata": {},
     "output_type": "execute_result"
    }
   ],
   "source": [
    "TMS94.status"
   ]
  },
  {
   "cell_type": "code",
   "execution_count": 27,
   "id": "lovely-claim",
   "metadata": {
    "ExecuteTime": {
     "end_time": "2021-05-20T15:02:05.575239Z",
     "start_time": "2021-05-20T15:02:05.534168Z"
    }
   },
   "outputs": [],
   "source": [
    "TMS94.stop()"
   ]
  },
  {
   "cell_type": "code",
   "execution_count": 28,
   "id": "republican-thomson",
   "metadata": {
    "ExecuteTime": {
     "end_time": "2021-05-20T15:02:06.223850Z",
     "start_time": "2021-05-20T15:02:06.183190Z"
    }
   },
   "outputs": [
    {
     "data": {
      "text/plain": [
       "'stopped'"
      ]
     },
     "execution_count": 28,
     "metadata": {},
     "output_type": "execute_result"
    }
   ],
   "source": [
    "TMS94.status"
   ]
  },
  {
   "cell_type": "code",
   "execution_count": 16,
   "id": "worst-apache",
   "metadata": {
    "ExecuteTime": {
     "end_time": "2021-05-20T14:55:40.389944Z",
     "start_time": "2021-05-20T14:55:40.373070Z"
    }
   },
   "outputs": [],
   "source": [
    "TMS94.ser.close()"
   ]
  },
  {
   "cell_type": "code",
   "execution_count": 30,
   "id": "devoted-basket",
   "metadata": {
    "ExecuteTime": {
     "end_time": "2021-05-20T15:05:12.361598Z",
     "start_time": "2021-05-20T15:05:12.352156Z"
    }
   },
   "outputs": [
    {
     "name": "stdout",
     "output_type": "stream",
     "text": [
      "serial connection off\n"
     ]
    }
   ],
   "source": [
    "del TMS94"
   ]
  },
  {
   "cell_type": "markdown",
   "id": "neutral-creek",
   "metadata": {},
   "source": [
    "# Pyqt app"
   ]
  },
  {
   "cell_type": "code",
   "execution_count": 31,
   "id": "arctic-lounge",
   "metadata": {
    "ExecuteTime": {
     "end_time": "2021-05-20T15:05:14.145538Z",
     "start_time": "2021-05-20T15:05:14.131669Z"
    }
   },
   "outputs": [],
   "source": [
    "from PyLinkam import  ControllerDisplay"
   ]
  },
  {
   "cell_type": "code",
   "execution_count": 32,
   "id": "greek-union",
   "metadata": {
    "ExecuteTime": {
     "end_time": "2021-05-20T15:05:56.540968Z",
     "start_time": "2021-05-20T15:05:14.874587Z"
    }
   },
   "outputs": [
    {
     "name": "stdout",
     "output_type": "stream",
     "text": [
      "create programmer object\n",
      "create programmer thread\n",
      "create app\n",
      "running\n",
      "start program\n",
      "thread stopped\n",
      "start command passed\n",
      "b''\n",
      "thread restartedrunning\n",
      "\n",
      "running\n",
      "10.0\n",
      "100.0\n",
      "start program\n",
      "thread stopped\n",
      "start command passed\n",
      "b''\n",
      "thread restarted\n",
      "running\n",
      "running\n",
      "serial connection off\n"
     ]
    }
   ],
   "source": [
    "ControllerDisplay('COM13', 'TMS94', verbose = True)"
   ]
  },
  {
   "cell_type": "code",
   "execution_count": null,
   "id": "manual-squad",
   "metadata": {},
   "outputs": [],
   "source": []
  }
 ],
 "metadata": {
  "hide_input": false,
  "kernelspec": {
   "display_name": "Python 3",
   "language": "python",
   "name": "python3"
  },
  "language_info": {
   "codemirror_mode": {
    "name": "ipython",
    "version": 3
   },
   "file_extension": ".py",
   "mimetype": "text/x-python",
   "name": "python",
   "nbconvert_exporter": "python",
   "pygments_lexer": "ipython3",
   "version": "3.7.10"
  },
  "latex_envs": {
   "LaTeX_envs_menu_present": true,
   "autoclose": false,
   "autocomplete": true,
   "bibliofile": "biblio.bib",
   "cite_by": "apalike",
   "current_citInitial": 1,
   "eqLabelWithNumbers": true,
   "eqNumInitial": 1,
   "hotkeys": {
    "equation": "Ctrl-E",
    "itemize": "Ctrl-I"
   },
   "labels_anchors": false,
   "latex_user_defs": false,
   "report_style_numbering": false,
   "user_envs_cfg": false
  },
  "toc": {
   "base_numbering": 1,
   "nav_menu": {},
   "number_sections": true,
   "sideBar": true,
   "skip_h1_title": false,
   "title_cell": "Table of Contents",
   "title_sidebar": "Contents",
   "toc_cell": false,
   "toc_position": {},
   "toc_section_display": true,
   "toc_window_display": false
  }
 },
 "nbformat": 4,
 "nbformat_minor": 5
}
