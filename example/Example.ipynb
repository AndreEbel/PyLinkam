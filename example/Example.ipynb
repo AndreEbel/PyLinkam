{
 "cells": [
  {
   "cell_type": "markdown",
   "id": "e1f56068",
   "metadata": {},
   "source": [
    "# List COM ports"
   ]
  },
  {
   "cell_type": "code",
   "execution_count": 1,
   "id": "6b0a2226",
   "metadata": {
    "ExecuteTime": {
     "end_time": "2021-09-09T08:24:04.373852Z",
     "start_time": "2021-09-09T08:24:04.342327Z"
    }
   },
   "outputs": [
    {
     "name": "stdout",
     "output_type": "stream",
     "text": [
      "available COM ports:\n",
      "COM4 - Lien série sur Bluetooth standard (COM4)\n",
      "COM3 - Lien série sur Bluetooth standard (COM3)\n",
      "COM5 - USB-SERIAL CH340 (COM5)\n"
     ]
    }
   ],
   "source": [
    "import serial.tools.list_ports as list_ports\n",
    "print('available COM ports:')\n",
    "a = list_ports.comports()\n",
    "for x in a:\n",
    "    print(x)"
   ]
  },
  {
   "cell_type": "markdown",
   "id": "587fbafe",
   "metadata": {},
   "source": [
    "# Basic commands"
   ]
  },
  {
   "cell_type": "code",
   "execution_count": 2,
   "id": "fd7c364b",
   "metadata": {
    "ExecuteTime": {
     "end_time": "2021-09-09T08:24:05.694148Z",
     "start_time": "2021-09-09T08:24:05.499208Z"
    }
   },
   "outputs": [],
   "source": [
    "import PyLinkam as PL"
   ]
  },
  {
   "cell_type": "code",
   "execution_count": 3,
   "id": "91a062af",
   "metadata": {
    "ExecuteTime": {
     "end_time": "2021-09-09T08:24:06.242521Z",
     "start_time": "2021-09-09T08:24:06.226944Z"
    }
   },
   "outputs": [],
   "source": [
    "TMS94 = PL.programmer('COM5')"
   ]
  },
  {
   "cell_type": "code",
   "execution_count": 4,
   "id": "dc88d990",
   "metadata": {
    "ExecuteTime": {
     "end_time": "2021-09-09T08:24:07.027156Z",
     "start_time": "2021-09-09T08:24:06.954371Z"
    }
   },
   "outputs": [
    {
     "data": {
      "text/plain": [
       "27.0"
      ]
     },
     "execution_count": 4,
     "metadata": {},
     "output_type": "execute_result"
    }
   ],
   "source": [
    "TMS94.temperature"
   ]
  },
  {
   "cell_type": "code",
   "execution_count": 5,
   "id": "322f557c",
   "metadata": {
    "ExecuteTime": {
     "end_time": "2021-09-09T08:24:09.298838Z",
     "start_time": "2021-09-09T08:24:09.248783Z"
    }
   },
   "outputs": [
    {
     "data": {
      "text/plain": [
       "'no error'"
      ]
     },
     "execution_count": 5,
     "metadata": {},
     "output_type": "execute_result"
    }
   ],
   "source": [
    "TMS94.error"
   ]
  },
  {
   "cell_type": "code",
   "execution_count": 6,
   "id": "46695d4d",
   "metadata": {
    "ExecuteTime": {
     "end_time": "2021-09-09T08:24:09.560320Z",
     "start_time": "2021-09-09T08:24:09.498046Z"
    }
   },
   "outputs": [
    {
     "data": {
      "text/plain": [
       "'stopped'"
      ]
     },
     "execution_count": 6,
     "metadata": {},
     "output_type": "execute_result"
    }
   ],
   "source": [
    "TMS94.status"
   ]
  },
  {
   "cell_type": "code",
   "execution_count": 7,
   "id": "26765972",
   "metadata": {
    "ExecuteTime": {
     "end_time": "2021-05-20T15:01:45.709540Z",
     "start_time": "2021-05-20T15:01:45.652865Z"
    }
   },
   "outputs": [],
   "source": [
    "TMS94.set_rate(10)"
   ]
  },
  {
   "cell_type": "code",
   "execution_count": 8,
   "id": "6ccbd9c5",
   "metadata": {
    "ExecuteTime": {
     "end_time": "2021-05-20T15:01:52.540529Z",
     "start_time": "2021-05-20T15:01:52.527936Z"
    }
   },
   "outputs": [
    {
     "data": {
      "text/plain": [
       "10"
      ]
     },
     "execution_count": 8,
     "metadata": {},
     "output_type": "execute_result"
    }
   ],
   "source": [
    "TMS94.rate"
   ]
  },
  {
   "cell_type": "code",
   "execution_count": 9,
   "id": "4c7b1655",
   "metadata": {
    "ExecuteTime": {
     "end_time": "2021-05-20T15:01:53.447721Z",
     "start_time": "2021-05-20T15:01:53.406079Z"
    }
   },
   "outputs": [],
   "source": [
    "TMS94.set_limit(100)"
   ]
  },
  {
   "cell_type": "code",
   "execution_count": 10,
   "id": "6da745bc",
   "metadata": {
    "ExecuteTime": {
     "end_time": "2021-05-20T15:01:54.702754Z",
     "start_time": "2021-05-20T15:01:54.692277Z"
    }
   },
   "outputs": [
    {
     "data": {
      "text/plain": [
       "100"
      ]
     },
     "execution_count": 10,
     "metadata": {},
     "output_type": "execute_result"
    }
   ],
   "source": [
    "TMS94.limit"
   ]
  },
  {
   "cell_type": "code",
   "execution_count": 11,
   "id": "b15a89e4",
   "metadata": {
    "ExecuteTime": {
     "end_time": "2021-05-20T15:01:55.202172Z",
     "start_time": "2021-05-20T15:01:55.167521Z"
    }
   },
   "outputs": [],
   "source": [
    "TMS94.start()"
   ]
  },
  {
   "cell_type": "code",
   "execution_count": 12,
   "id": "6d59bfd0",
   "metadata": {
    "ExecuteTime": {
     "end_time": "2021-05-20T15:01:57.492241Z",
     "start_time": "2021-05-20T15:01:57.451229Z"
    }
   },
   "outputs": [
    {
     "data": {
      "text/plain": [
       "'heating'"
      ]
     },
     "execution_count": 12,
     "metadata": {},
     "output_type": "execute_result"
    }
   ],
   "source": [
    "TMS94.status"
   ]
  },
  {
   "cell_type": "code",
   "execution_count": 13,
   "id": "34e252ad",
   "metadata": {
    "ExecuteTime": {
     "end_time": "2021-05-20T15:02:05.575239Z",
     "start_time": "2021-05-20T15:02:05.534168Z"
    }
   },
   "outputs": [],
   "source": [
    "TMS94.stop()"
   ]
  },
  {
   "cell_type": "code",
   "execution_count": 14,
   "id": "04b2c08f",
   "metadata": {
    "ExecuteTime": {
     "end_time": "2021-05-20T15:02:06.223850Z",
     "start_time": "2021-05-20T15:02:06.183190Z"
    }
   },
   "outputs": [
    {
     "data": {
      "text/plain": [
       "'stopped'"
      ]
     },
     "execution_count": 14,
     "metadata": {},
     "output_type": "execute_result"
    }
   ],
   "source": [
    "TMS94.status"
   ]
  },
  {
   "cell_type": "code",
   "execution_count": 15,
   "id": "27fc0385",
   "metadata": {
    "ExecuteTime": {
     "end_time": "2021-09-09T08:21:19.049912Z",
     "start_time": "2021-09-09T08:21:19.036214Z"
    }
   },
   "outputs": [],
   "source": [
    "TMS94.ser.close()"
   ]
  },
  {
   "cell_type": "code",
   "execution_count": 16,
   "id": "3b5af826",
   "metadata": {
    "ExecuteTime": {
     "end_time": "2021-09-09T08:21:19.700314Z",
     "start_time": "2021-09-09T08:21:19.686225Z"
    }
   },
   "outputs": [
    {
     "name": "stdout",
     "output_type": "stream",
     "text": [
      "serial connection off\n"
     ]
    }
   ],
   "source": [
    "del TMS94"
   ]
  },
  {
   "cell_type": "markdown",
   "id": "07484852",
   "metadata": {},
   "source": [
    "# Saving readings to file  "
   ]
  },
  {
   "cell_type": "code",
   "execution_count": 17,
   "id": "d0208ae9",
   "metadata": {
    "ExecuteTime": {
     "end_time": "2021-09-09T08:46:31.813871Z",
     "start_time": "2021-09-09T08:46:31.763805Z"
    }
   },
   "outputs": [],
   "source": [
    "import time"
   ]
  },
  {
   "cell_type": "code",
   "execution_count": 18,
   "id": "0396dba5",
   "metadata": {
    "ExecuteTime": {
     "end_time": "2021-09-09T08:46:32.336741Z",
     "start_time": "2021-09-09T08:46:32.050439Z"
    }
   },
   "outputs": [],
   "source": [
    "import PyLinkam as PL"
   ]
  },
  {
   "cell_type": "code",
   "execution_count": 19,
   "id": "d3c967c4",
   "metadata": {
    "ExecuteTime": {
     "end_time": "2021-09-09T08:46:32.629047Z",
     "start_time": "2021-09-09T08:46:32.621698Z"
    }
   },
   "outputs": [],
   "source": [
    "TMS94 = PL.programmer('COM5')"
   ]
  },
  {
   "cell_type": "code",
   "execution_count": 20,
   "id": "6fd2b19a",
   "metadata": {
    "ExecuteTime": {
     "end_time": "2021-09-09T08:46:35.763075Z",
     "start_time": "2021-09-09T08:46:35.756026Z"
    }
   },
   "outputs": [],
   "source": [
    " #record temperature, status and error messages in a csv file\n",
    "TMS94.datalog(interval = 1,  #s\n",
    "              file = 'test.csv') #path of csv file "
   ]
  },
  {
   "cell_type": "code",
   "execution_count": 22,
   "id": "9e60ad06-5f75-42a6-9285-728631217c3e",
   "metadata": {},
   "outputs": [
    {
     "name": "stdout",
     "output_type": "stream",
     "text": [
      "heating\n",
      "holding\n",
      "cooling\n"
     ]
    }
   ],
   "source": [
    "#run command to perform your heat treatment\n",
    "RT = 30 #°C\n",
    "T_target = 60 #°C\n",
    "holding_time = 60 #s\n",
    "TMS94.set_rate(10) #°C/min\n",
    "\n",
    "## heating\n",
    "print('heating')\n",
    "TMS94.set_limit(T_target) #°C\n",
    "TMS94.start()\n",
    "while TMS94.temperature < T_target:\n",
    "    time.sleep(1) #s\n",
    "    \n",
    "## holding time\n",
    "print('holding')\n",
    "time.sleep(holding_time)\n",
    "\n",
    "## cooling\n",
    "print('cooling')\n",
    "TMS94.set_limit(RT) #°C\n",
    "while TMS94.temperature > RT:\n",
    "    time.sleep(1) #s\n",
    "TMS94.stop()"
   ]
  },
  {
   "cell_type": "code",
   "execution_count": 23,
   "id": "d95a2bed",
   "metadata": {
    "ExecuteTime": {
     "end_time": "2021-09-09T08:47:49.616590Z",
     "start_time": "2021-09-09T08:47:49.600632Z"
    }
   },
   "outputs": [],
   "source": [
    "# closing the serial connection stops data logging\n",
    "TMS94.ser.close()"
   ]
  },
  {
   "cell_type": "code",
   "execution_count": 24,
   "id": "a9d94068",
   "metadata": {
    "ExecuteTime": {
     "end_time": "2021-09-09T08:44:30.367083Z",
     "start_time": "2021-09-09T08:44:30.353897Z"
    }
   },
   "outputs": [
    {
     "name": "stdout",
     "output_type": "stream",
     "text": [
      "serial connection off\n"
     ]
    }
   ],
   "source": [
    "del TMS94"
   ]
  },
  {
   "cell_type": "markdown",
   "id": "26dd726d",
   "metadata": {},
   "source": [
    "# plot datalog"
   ]
  },
  {
   "cell_type": "code",
   "execution_count": 25,
   "id": "0764550b",
   "metadata": {
    "ExecuteTime": {
     "end_time": "2021-09-09T08:48:41.244085Z",
     "start_time": "2021-09-09T08:48:41.239101Z"
    }
   },
   "outputs": [],
   "source": [
    "file = 'test.csv'"
   ]
  },
  {
   "cell_type": "code",
   "execution_count": 26,
   "id": "876eb0c1",
   "metadata": {
    "ExecuteTime": {
     "end_time": "2021-09-09T08:48:39.166033Z",
     "start_time": "2021-09-09T08:48:38.719268Z"
    }
   },
   "outputs": [],
   "source": [
    "import pandas as pd"
   ]
  },
  {
   "cell_type": "code",
   "execution_count": 27,
   "id": "93213005",
   "metadata": {
    "ExecuteTime": {
     "end_time": "2021-09-09T08:50:37.117167Z",
     "start_time": "2021-09-09T08:50:37.103982Z"
    }
   },
   "outputs": [],
   "source": [
    "datalog = pd.read_csv(file, names = ['t_s', 'T_C', 'status', 'error'])"
   ]
  },
  {
   "cell_type": "code",
   "execution_count": 28,
   "id": "95eecff6",
   "metadata": {
    "ExecuteTime": {
     "end_time": "2021-09-09T08:50:44.283889Z",
     "start_time": "2021-09-09T08:50:44.258021Z"
    },
    "scrolled": true
   },
   "outputs": [
    {
     "data": {
      "text/html": [
       "<div>\n",
       "<style scoped>\n",
       "    .dataframe tbody tr th:only-of-type {\n",
       "        vertical-align: middle;\n",
       "    }\n",
       "\n",
       "    .dataframe tbody tr th {\n",
       "        vertical-align: top;\n",
       "    }\n",
       "\n",
       "    .dataframe thead th {\n",
       "        text-align: right;\n",
       "    }\n",
       "</style>\n",
       "<table border=\"1\" class=\"dataframe\">\n",
       "  <thead>\n",
       "    <tr style=\"text-align: right;\">\n",
       "      <th></th>\n",
       "      <th>t_s</th>\n",
       "      <th>T_C</th>\n",
       "      <th>status</th>\n",
       "      <th>error</th>\n",
       "    </tr>\n",
       "  </thead>\n",
       "  <tbody>\n",
       "    <tr>\n",
       "      <th>0</th>\n",
       "      <td>0.000000</td>\n",
       "      <td>26.0</td>\n",
       "      <td>stopped</td>\n",
       "      <td>no error</td>\n",
       "    </tr>\n",
       "    <tr>\n",
       "      <th>1</th>\n",
       "      <td>1.034874</td>\n",
       "      <td>26.0</td>\n",
       "      <td>stopped</td>\n",
       "      <td>no error</td>\n",
       "    </tr>\n",
       "    <tr>\n",
       "      <th>2</th>\n",
       "      <td>2.069085</td>\n",
       "      <td>26.0</td>\n",
       "      <td>stopped</td>\n",
       "      <td>no error</td>\n",
       "    </tr>\n",
       "    <tr>\n",
       "      <th>3</th>\n",
       "      <td>3.104269</td>\n",
       "      <td>26.0</td>\n",
       "      <td>stopped</td>\n",
       "      <td>no error</td>\n",
       "    </tr>\n",
       "    <tr>\n",
       "      <th>4</th>\n",
       "      <td>4.161107</td>\n",
       "      <td>26.0</td>\n",
       "      <td>stopped</td>\n",
       "      <td>no error</td>\n",
       "    </tr>\n",
       "  </tbody>\n",
       "</table>\n",
       "</div>"
      ],
      "text/plain": [
       "        t_s   T_C    status      error\n",
       "0  0.000000  26.0   stopped   no error\n",
       "1  1.034874  26.0   stopped   no error\n",
       "2  2.069085  26.0   stopped   no error\n",
       "3  3.104269  26.0   stopped   no error\n",
       "4  4.161107  26.0   stopped   no error"
      ]
     },
     "execution_count": 28,
     "metadata": {},
     "output_type": "execute_result"
    }
   ],
   "source": [
    "datalog.head()"
   ]
  },
  {
   "cell_type": "code",
   "execution_count": 29,
   "id": "a4a8b5da",
   "metadata": {
    "ExecuteTime": {
     "end_time": "2021-09-09T08:51:25.591764Z",
     "start_time": "2021-09-09T08:51:24.757765Z"
    }
   },
   "outputs": [
    {
     "data": {
      "text/plain": [
       "<AxesSubplot:xlabel='t (s)', ylabel='T (°C)'>"
      ]
     },
     "execution_count": 29,
     "metadata": {},
     "output_type": "execute_result"
    },
    {
     "data": {
      "image/png": "[encoded data removed]",
      "text/plain": [
       "<Figure size 432x288 with 1 Axes>"
      ]
     },
     "metadata": {
      "needs_background": "light"
     },
     "output_type": "display_data"
    }
   ],
   "source": [
    "datalog.plot(x = 't_s', \n",
    "             y = 'T_C', \n",
    "             xlabel = 't (s)', \n",
    "             ylabel = 'T (°C)')"
   ]
  },
  {
   "cell_type": "markdown",
   "id": "96e5edaa-6013-42da-b29e-c99e29f5c1aa",
   "metadata": {
    "tags": []
   },
   "source": [
    "# Pyqt app"
   ]
  },
  {
   "cell_type": "code",
   "execution_count": 11,
   "id": "afca30ca-0586-47cd-bb60-cda718e4ec70",
   "metadata": {
    "ExecuteTime": {
     "end_time": "2021-09-09T08:21:20.851303Z",
     "start_time": "2021-09-09T08:21:20.841376Z"
    }
   },
   "outputs": [],
   "source": [
    "from PyLinkam import  ControllerDisplay"
   ]
  },
  {
   "cell_type": "code",
   "execution_count": 12,
   "id": "ab0eee97-5fe6-4f5d-9766-dba6fa4e85c3",
   "metadata": {
    "ExecuteTime": {
     "end_time": "2021-09-09T08:21:37.850297Z",
     "start_time": "2021-09-09T08:21:21.247932Z"
    },
    "scrolled": true
   },
   "outputs": [
    {
     "name": "stdout",
     "output_type": "stream",
     "text": [
      "create programmer object\n",
      "create programmer thread\n",
      "create app\n",
      "running\n",
      "serial connection off\n"
     ]
    }
   ],
   "source": [
    "ControllerDisplay('COM5', 'TMS94', verbose = True)"
   ]
  },
  {
   "cell_type": "code",
   "execution_count": null,
   "id": "3ada0832-a2c5-4be7-a31c-72fa00da4427",
   "metadata": {},
   "outputs": [],
   "source": []
  }
 ],
 "metadata": {
  "hide_input": false,
  "kernelspec": {
   "display_name": "Python 3 (ipykernel)",
   "language": "python",
   "name": "python3"
  },
  "language_info": {
   "codemirror_mode": {
    "name": "ipython",
    "version": 3
   },
   "file_extension": ".py",
   "mimetype": "text/x-python",
   "name": "python",
   "nbconvert_exporter": "python",
   "pygments_lexer": "ipython3",
   "version": "3.7.11"
  },
  "latex_envs": {
   "LaTeX_envs_menu_present": true,
   "autoclose": false,
   "autocomplete": true,
   "bibliofile": "biblio.bib",
   "cite_by": "apalike",
   "current_citInitial": 1,
   "eqLabelWithNumbers": true,
   "eqNumInitial": 1,
   "hotkeys": {
    "equation": "Ctrl-E",
    "itemize": "Ctrl-I"
   },
   "labels_anchors": false,
   "latex_user_defs": false,
   "report_style_numbering": false,
   "user_envs_cfg": false
  },
  "toc": {
   "base_numbering": 1,
   "nav_menu": {},
   "number_sections": true,
   "sideBar": true,
   "skip_h1_title": false,
   "title_cell": "Table of Contents",
   "title_sidebar": "Contents",
   "toc_cell": false,
   "toc_position": {},
   "toc_section_display": true,
   "toc_window_display": false
  }
 },
 "nbformat": 4,
 "nbformat_minor": 5
}
